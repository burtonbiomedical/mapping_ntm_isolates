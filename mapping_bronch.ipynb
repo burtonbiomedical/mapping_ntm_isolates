{
 "cells": [
  {
   "cell_type": "markdown",
   "metadata": {},
   "source": [
    "<h1>Mapping Bronchiectasis Patients</h1>"
   ]
  },
  {
   "cell_type": "markdown",
   "metadata": {},
   "source": [
    "Dr Mustafa Elsayed at Southmead Hospital in Bristol is currently conducting research relating to Non-Tuberculosis Mycobacterium (NTM) isolates in patients with Bronchiectasis. Included in his research interests is the possibility of patient to patient transmission of NTM strains. It was at his request that I conducted Geocoding of the Bronchiectasis cohort his research team was using, which is the subject matter of this notebook.\n",
    "\n",
    "The dataset consisted of 312 unique patients, detailing the patients postcode and the bacterial isolate obtained from sputum culture. Using the Google Maps API I obtained latitude and longitudal coordinates for each patient, and created an interactive map detailing their corresponding sputum culture result; each patient is represente by an interactive pinpoint that details the Pseudomonas or NTM bacterial strain isolated. The hope being that such visualisation of data could give insight to whether related strains cluster in particular patient locations.\n",
    "\n",
    "Due to the nature of this work I am unable to share the raw data files or findings, but below is the source code used for data processing and producing the interactive map."
   ]
  },
  {
   "cell_type": "markdown",
   "metadata": {},
   "source": [
    "<h3>1. Import Dependencies</h3>"
   ]
  },
  {
   "cell_type": "code",
   "execution_count": 7,
   "metadata": {
    "collapsed": true
   },
   "outputs": [],
   "source": [
    "import pandas as pd\n",
    "import requests\n",
    "import time\n",
    "import gmplot\n",
    "from bokeh.io import output_file, output_notebook, show\n",
    "from bokeh.models import (\n",
    "  GMapPlot, GMapOptions, ColumnDataSource, Circle, LogColorMapper, BasicTicker, ColorBar,\n",
    "    Range1d, PanTool, WheelZoomTool, BoxSelectTool, HoverTool\n",
    ")\n",
    "from bokeh.models.mappers import LinearColorMapper\n",
    "from bokeh.palettes import Viridis5"
   ]
  },
  {
   "cell_type": "markdown",
   "metadata": {},
   "source": [
    "<h2>2. Data imports and Ad-Hoc investigations"
   ]
  },
  {
   "cell_type": "code",
   "execution_count": null,
   "metadata": {
    "collapsed": true
   },
   "outputs": [],
   "source": [
    "data = pd.read_excel(\"Bronchiectasis_Mastersheet_Postcode.xlsx\")"
   ]
  },
  {
   "cell_type": "code",
   "execution_count": null,
   "metadata": {
    "collapsed": true
   },
   "outputs": [],
   "source": [
    "data.head()"
   ]
  },
  {
   "cell_type": "code",
   "execution_count": null,
   "metadata": {
    "collapsed": true
   },
   "outputs": [],
   "source": [
    "data.info()"
   ]
  },
  {
   "cell_type": "markdown",
   "metadata": {},
   "source": [
    "<h3>3. Data munging</h3>\n",
    "\n",
    "Create a pandas dataframe with the patient ID, postcode, and the NTM and PSE status"
   ]
  },
  {
   "cell_type": "code",
   "execution_count": null,
   "metadata": {
    "collapsed": true
   },
   "outputs": [],
   "source": [
    "data = data[['UID','PostCode','NTM','PSE', 'NTM sp']]"
   ]
  },
  {
   "cell_type": "code",
   "execution_count": null,
   "metadata": {
    "collapsed": true
   },
   "outputs": [],
   "source": [
    "data.info()"
   ]
  },
  {
   "cell_type": "code",
   "execution_count": null,
   "metadata": {
    "collapsed": true
   },
   "outputs": [],
   "source": [
    "data['NTM'].value_counts()"
   ]
  },
  {
   "cell_type": "code",
   "execution_count": null,
   "metadata": {
    "collapsed": true
   },
   "outputs": [],
   "source": [
    "data['PSE'].value_counts()"
   ]
  },
  {
   "cell_type": "code",
   "execution_count": null,
   "metadata": {
    "collapsed": true
   },
   "outputs": [],
   "source": [
    "ntm_dummies = pd.get_dummies(data['NTM'], prefix=\"NTM\")"
   ]
  },
  {
   "cell_type": "code",
   "execution_count": null,
   "metadata": {
    "collapsed": true
   },
   "outputs": [],
   "source": [
    "pse_dummies = pd.get_dummies(data['PSE'], prefix=\"PSE\")"
   ]
  },
  {
   "cell_type": "markdown",
   "metadata": {},
   "source": [
    "Create dummy columns for the boolean values representing PSE and NTM status"
   ]
  },
  {
   "cell_type": "code",
   "execution_count": null,
   "metadata": {
    "collapsed": true
   },
   "outputs": [],
   "source": [
    "data.drop(['PSE', 'NTM'], inplace=True, axis=1)"
   ]
  },
  {
   "cell_type": "code",
   "execution_count": null,
   "metadata": {
    "collapsed": true
   },
   "outputs": [],
   "source": [
    "data = pd.concat([data, pse_dummies, ntm_dummies], axis=1)"
   ]
  },
  {
   "cell_type": "code",
   "execution_count": null,
   "metadata": {
    "collapsed": true
   },
   "outputs": [],
   "source": [
    "data.info()"
   ]
  },
  {
   "cell_type": "markdown",
   "metadata": {},
   "source": [
    "<h3>4. Get coordinates for each patient using postcode</h3>"
   ]
  },
  {
   "cell_type": "code",
   "execution_count": null,
   "metadata": {
    "collapsed": true
   },
   "outputs": [],
   "source": [
    "def get_long(postcode):\n",
    "    \"\"\"Using patient postcode, fetch longitudal coordinate using Google Maps API\"\"\"\n",
    "    try:\n",
    "        postcode = postcode.replace(\" \", \"+\")\n",
    "        response = requests.get('https://maps.googleapis.com/maps/api/geocode/json?address={}'.format(postcode))\n",
    "        resp_json_payload = response.json()\n",
    "        return resp_json_payload['results'][0]['geometry']['location']['lng']\n",
    "    except:\n",
    "        time.sleep(2)\n",
    "        return get_long(postcode)"
   ]
  },
  {
   "cell_type": "code",
   "execution_count": null,
   "metadata": {
    "collapsed": true
   },
   "outputs": [],
   "source": [
    "def get_lat(postcode):\n",
    "    \"\"\"Using patient postcode, fetch latitude coordinate using Google Maps API\"\"\"\n",
    "    try:\n",
    "        postcode = postcode.replace(\" \", \"+\")\n",
    "        response = requests.get('https://maps.googleapis.com/maps/api/geocode/json?address={}'.format(postcode))\n",
    "        resp_json_payload = response.json()\n",
    "        return resp_json_payload['results'][0]['geometry']['location']['lat']\n",
    "    except:\n",
    "        time.sleep(2)\n",
    "        return get_long(postcode)"
   ]
  },
  {
   "cell_type": "code",
   "execution_count": null,
   "metadata": {
    "collapsed": true
   },
   "outputs": [],
   "source": [
    "data['long'] = data.PostCode.apply(get_long)"
   ]
  },
  {
   "cell_type": "code",
   "execution_count": null,
   "metadata": {
    "collapsed": true
   },
   "outputs": [],
   "source": [
    "data['lat'] = data.PostCode.apply(get_lat)"
   ]
  },
  {
   "cell_type": "code",
   "execution_count": null,
   "metadata": {
    "collapsed": true
   },
   "outputs": [],
   "source": [
    "data.info()"
   ]
  },
  {
   "cell_type": "markdown",
   "metadata": {},
   "source": [
    "<h3>5. Plot data using Gmap Python library</h3>"
   ]
  },
  {
   "cell_type": "markdown",
   "metadata": {},
   "source": [
    "To get a general feel for the geographic distribution of data, I start with a static map using the <a href=\"https://github.com/pbugnion/gmaps\">GMaps</a> a Python library available on GitHub. "
   ]
  },
  {
   "cell_type": "code",
   "execution_count": null,
   "metadata": {
    "collapsed": true
   },
   "outputs": [],
   "source": [
    "#Save the processed dataset to a CSV file, drop index\n",
    "data.to_csv(\"loc_data.csv\", index=False)"
   ]
  },
  {
   "cell_type": "code",
   "execution_count": null,
   "metadata": {
    "collapsed": true
   },
   "outputs": [],
   "source": [
    "#Seperate data into Pseudomonas isolates, NTM isolates, and all other data\n",
    "pyo = data[data['PSE_Y'] == 1]\n",
    "ntm = data[data['NTM_Y'] == 1]\n",
    "all_other = data[(data['PSE_Y'] == 0) & (data['NTM_Y'] == 0)]"
   ]
  },
  {
   "cell_type": "code",
   "execution_count": null,
   "metadata": {
    "collapsed": true
   },
   "outputs": [],
   "source": [
    "#Plot data using the gmap scatter method\n",
    "gmap = gmplot.GoogleMapPlotter(51.3758, -2.3599, 11)\n",
    "gmap.scatter(all_other['lat'].tolist(), all_other['long'].tolist(), '#3B0B39', size=40, marker=True)\n",
    "gmap.scatter(pyo['lat'].tolist(), pyo['long'].tolist(), '#32CD32', size=40, marker=False)\n",
    "gmap.scatter(ntm['lat'].tolist(), ntm['long'].tolist(), '#ff0000', size=40, marker=False)\n",
    "gmap.draw(\"all_samples.html\")"
   ]
  },
  {
   "cell_type": "markdown",
   "metadata": {},
   "source": [
    "<h3>6. Interactive plot</h3>\n",
    "\n",
    "Happy with the static plot, I will proceed to using the Bokeh JS library to create an interactive display of the Bronchiectasis cohort."
   ]
  },
  {
   "cell_type": "code",
   "execution_count": 2,
   "metadata": {
    "collapsed": true
   },
   "outputs": [],
   "source": [
    "data = pd.read_csv(\"loc_data.csv\")"
   ]
  },
  {
   "cell_type": "code",
   "execution_count": 3,
   "metadata": {},
   "outputs": [
    {
     "name": "stdout",
     "output_type": "stream",
     "text": [
      "<class 'pandas.core.frame.DataFrame'>\n",
      "RangeIndex: 312 entries, 0 to 311\n",
      "Data columns (total 9 columns):\n",
      "UID         312 non-null object\n",
      "PostCode    312 non-null object\n",
      "NTM sp      236 non-null object\n",
      "PSE_N       312 non-null int64\n",
      "PSE_Y       312 non-null int64\n",
      "NTM_N       312 non-null int64\n",
      "NTM_Y       312 non-null int64\n",
      "long        312 non-null float64\n",
      "lat         312 non-null float64\n",
      "dtypes: float64(2), int64(4), object(3)\n",
      "memory usage: 18.3+ KB\n"
     ]
    }
   ],
   "source": [
    "data.info()"
   ]
  },
  {
   "cell_type": "code",
   "execution_count": 12,
   "metadata": {
    "collapsed": true
   },
   "outputs": [],
   "source": [
    "def color_col(row):\n",
    "    \"\"\"Color code each record according the bacterial isolate result\"\"\"\n",
    "    if row.NTM_Y == 1:\n",
    "        #1 == red\n",
    "        return 1\n",
    "    elif row.PSE_Y == 1:\n",
    "        #2 == green\n",
    "        return 2\n",
    "    else:\n",
    "        #0 == blue\n",
    "        return 0"
   ]
  },
  {
   "cell_type": "code",
   "execution_count": 13,
   "metadata": {
    "collapsed": true
   },
   "outputs": [],
   "source": [
    "#Create new column corresponding to assigned color\n",
    "data['color'] = data.apply(color_col, axis=1)"
   ]
  },
  {
   "cell_type": "code",
   "execution_count": null,
   "metadata": {},
   "outputs": [],
   "source": [
    "#Create Bokeh GMap object\n",
    "map_options = GMapOptions(lat=51.3758, lng=-2.3599, map_type=\"roadmap\", zoom=11)\n",
    "plot = GMapPlot(x_range=Range1d(), y_range=Range1d(), map_options=map_options, sizing_mode='stretch_both')\n",
    "plot.title.text = \"Bronchiectasis Bath\"\n",
    "\n",
    "# For GMaps to function, Google requires you obtain and enable an API key:\n",
    "#https://developers.google.com/maps/documentation/javascript/get-api-key\n",
    "plot.api_key = \"*********************************\"\n",
    "\n",
    "#Bind to pandas dataframe\n",
    "source = ColumnDataSource(\n",
    "    data=dict(\n",
    "        index=data.UID.tolist(),\n",
    "        lat=data.lat.tolist(),\n",
    "        lon=data.long.tolist(),\n",
    "        desc=data['NTM sp'].tolist(),\n",
    "        color=data.color.tolist() #0:BLUE:OTHER, 1:RED:NTM, 2:GREEN:PSE \n",
    "    )\n",
    ")\n",
    "\n",
    "#Instantiate color mapper object\n",
    "color_mapper = LinearColorMapper(['blue', 'red', 'green'])\n",
    "\n",
    "#Define glyph objects\n",
    "circle = Circle(x=\"lon\", y=\"lat\", size=6, fill_color={'field': 'color', 'transform': color_mapper}, fill_alpha=0.5, line_color=None)\n",
    "plot.add_glyph(source, circle)\n",
    "\n",
    "#Add plot tools and define tooltips for hover tool\n",
    "plot.add_tools(PanTool(), WheelZoomTool(), BoxSelectTool(), HoverTool(tooltips = [\n",
    "    (\"Index\", \"@index\"),\n",
    "    (\"Species\", \"@desc\"),\n",
    "]))\n",
    "#Save plot to HTML file\n",
    "output_file(\"interactive_plot.html\")\n",
    "show(plot)"
   ]
  },
  {
   "cell_type": "code",
   "execution_count": null,
   "metadata": {
    "collapsed": true
   },
   "outputs": [],
   "source": []
  }
 ],
 "metadata": {
  "kernelspec": {
   "display_name": "Python 3",
   "language": "python",
   "name": "python3"
  },
  "language_info": {
   "codemirror_mode": {
    "name": "ipython",
    "version": 3
   },
   "file_extension": ".py",
   "mimetype": "text/x-python",
   "name": "python",
   "nbconvert_exporter": "python",
   "pygments_lexer": "ipython3",
   "version": "3.6.3"
  }
 },
 "nbformat": 4,
 "nbformat_minor": 2
}

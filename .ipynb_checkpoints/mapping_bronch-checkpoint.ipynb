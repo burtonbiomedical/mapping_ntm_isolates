{
 "cells": [
  {
   "cell_type": "code",
   "execution_count": 7,
   "metadata": {},
   "outputs": [],
   "source": [
    "import pandas as pd\n",
    "import requests"
   ]
  },
  {
   "cell_type": "code",
   "execution_count": 3,
   "metadata": {
    "collapsed": true
   },
   "outputs": [],
   "source": [
    "data = pd.read_excel(\"Bronchiectasis_Mastersheet_Postcode.xlsx\")"
   ]
  },
  {
   "cell_type": "code",
   "execution_count": 4,
   "metadata": {},
   "outputs": [
    {
     "data": {
      "text/html": [
       "<div>\n",
       "<style>\n",
       "    .dataframe thead tr:only-child th {\n",
       "        text-align: right;\n",
       "    }\n",
       "\n",
       "    .dataframe thead th {\n",
       "        text-align: left;\n",
       "    }\n",
       "\n",
       "    .dataframe tbody tr th {\n",
       "        vertical-align: top;\n",
       "    }\n",
       "</style>\n",
       "<table border=\"1\" class=\"dataframe\">\n",
       "  <thead>\n",
       "    <tr style=\"text-align: right;\">\n",
       "      <th></th>\n",
       "      <th>UID</th>\n",
       "      <th>Gender</th>\n",
       "      <th>age</th>\n",
       "      <th>PostCode</th>\n",
       "      <th>Dead or Alive</th>\n",
       "      <th>Date of Death</th>\n",
       "      <th>NTM</th>\n",
       "      <th>NTM sp</th>\n",
       "      <th>PSE</th>\n",
       "      <th>Others</th>\n",
       "      <th>...</th>\n",
       "      <th>haemoptysis</th>\n",
       "      <th>Azithromycin</th>\n",
       "      <th>PPI</th>\n",
       "      <th>MRC score</th>\n",
       "      <th>significant comorbidities</th>\n",
       "      <th>Morphological Appearance</th>\n",
       "      <th>DISTRIBUTION OF THE DISEASE ON THE CT SCAN</th>\n",
       "      <th>SEVERITY ON CT SCAN</th>\n",
       "      <th>OTHER FEATURES ON THE SCAN</th>\n",
       "      <th>NOTES</th>\n",
       "    </tr>\n",
       "  </thead>\n",
       "  <tbody>\n",
       "    <tr>\n",
       "      <th>0</th>\n",
       "      <td>#001</td>\n",
       "      <td>M</td>\n",
       "      <td>68</td>\n",
       "      <td>BA15 1NG</td>\n",
       "      <td>A</td>\n",
       "      <td>NaT</td>\n",
       "      <td>N</td>\n",
       "      <td>NONE</td>\n",
       "      <td>N</td>\n",
       "      <td>Y</td>\n",
       "      <td>...</td>\n",
       "      <td>N</td>\n",
       "      <td>N</td>\n",
       "      <td>N</td>\n",
       "      <td>1.0</td>\n",
       "      <td>Y</td>\n",
       "      <td>Not described</td>\n",
       "      <td>Patchy/multi-lovar (&gt;1 lobe, not all)</td>\n",
       "      <td>Mild</td>\n",
       "      <td>None of above mentioned</td>\n",
       "      <td>NaN</td>\n",
       "    </tr>\n",
       "    <tr>\n",
       "      <th>1</th>\n",
       "      <td>#002</td>\n",
       "      <td>M</td>\n",
       "      <td>76</td>\n",
       "      <td>BA3 3TQ</td>\n",
       "      <td>A</td>\n",
       "      <td>NaT</td>\n",
       "      <td>Y</td>\n",
       "      <td>MYCGOR</td>\n",
       "      <td>Y</td>\n",
       "      <td>Y</td>\n",
       "      <td>...</td>\n",
       "      <td>Y</td>\n",
       "      <td>N</td>\n",
       "      <td>Y</td>\n",
       "      <td>4.0</td>\n",
       "      <td>Y</td>\n",
       "      <td>Not described</td>\n",
       "      <td>Not described</td>\n",
       "      <td>Not described</td>\n",
       "      <td>None of above mentioned</td>\n",
       "      <td>NaN</td>\n",
       "    </tr>\n",
       "    <tr>\n",
       "      <th>2</th>\n",
       "      <td>#003</td>\n",
       "      <td>M</td>\n",
       "      <td>72</td>\n",
       "      <td>BA11 4BU</td>\n",
       "      <td>A</td>\n",
       "      <td>NaT</td>\n",
       "      <td>N</td>\n",
       "      <td>NaN</td>\n",
       "      <td>Y</td>\n",
       "      <td>Y</td>\n",
       "      <td>...</td>\n",
       "      <td>Y</td>\n",
       "      <td>Y</td>\n",
       "      <td>N</td>\n",
       "      <td>3.0</td>\n",
       "      <td>N</td>\n",
       "      <td>Not described</td>\n",
       "      <td>Patchy/multi-lovar (&gt;1 lobe, not all)</td>\n",
       "      <td>Mild</td>\n",
       "      <td>None of above mentioned</td>\n",
       "      <td>NaN</td>\n",
       "    </tr>\n",
       "    <tr>\n",
       "      <th>3</th>\n",
       "      <td>#004</td>\n",
       "      <td>F</td>\n",
       "      <td>82</td>\n",
       "      <td>BA4 5YG</td>\n",
       "      <td>D</td>\n",
       "      <td>2017-08-20 01:00:00</td>\n",
       "      <td>N</td>\n",
       "      <td>NaN</td>\n",
       "      <td>Y</td>\n",
       "      <td>Y</td>\n",
       "      <td>...</td>\n",
       "      <td>Y</td>\n",
       "      <td>Y</td>\n",
       "      <td>N</td>\n",
       "      <td>5.0</td>\n",
       "      <td>Y</td>\n",
       "      <td>Not described</td>\n",
       "      <td>Patchy/multi-lovar (&gt;1 lobe, not all)</td>\n",
       "      <td>Severe</td>\n",
       "      <td>None of above mentioned</td>\n",
       "      <td>NaN</td>\n",
       "    </tr>\n",
       "    <tr>\n",
       "      <th>4</th>\n",
       "      <td>#005</td>\n",
       "      <td>F</td>\n",
       "      <td>64</td>\n",
       "      <td>BA14 9TE</td>\n",
       "      <td>A</td>\n",
       "      <td>NaT</td>\n",
       "      <td>N</td>\n",
       "      <td>NaN</td>\n",
       "      <td>N</td>\n",
       "      <td>Y</td>\n",
       "      <td>...</td>\n",
       "      <td>Y</td>\n",
       "      <td>Y</td>\n",
       "      <td>N</td>\n",
       "      <td>1.0</td>\n",
       "      <td>N</td>\n",
       "      <td>Not described</td>\n",
       "      <td>Not described</td>\n",
       "      <td>Not described</td>\n",
       "      <td>Tree in bud</td>\n",
       "      <td>NaN</td>\n",
       "    </tr>\n",
       "  </tbody>\n",
       "</table>\n",
       "<p>5 rows × 24 columns</p>\n",
       "</div>"
      ],
      "text/plain": [
       "    UID Gender  age  PostCode Dead or Alive       Date of Death NTM  NTM sp  \\\n",
       "0  #001      M   68  BA15 1NG             A                 NaT   N    NONE   \n",
       "1  #002      M   76   BA3 3TQ             A                 NaT   Y  MYCGOR   \n",
       "2  #003      M   72  BA11 4BU             A                 NaT   N     NaN   \n",
       "3  #004      F   82   BA4 5YG             D 2017-08-20 01:00:00   N     NaN   \n",
       "4  #005      F   64  BA14 9TE             A                 NaT   N     NaN   \n",
       "\n",
       "  PSE Others  ...  haemoptysis Azithromycin PPI MRC score  \\\n",
       "0   N      Y  ...            N            N   N       1.0   \n",
       "1   Y      Y  ...            Y            N   Y       4.0   \n",
       "2   Y      Y  ...            Y            Y   N       3.0   \n",
       "3   Y      Y  ...            Y            Y   N       5.0   \n",
       "4   N      Y  ...            Y            Y   N       1.0   \n",
       "\n",
       "  significant comorbidities Morphological Appearance  \\\n",
       "0                         Y            Not described   \n",
       "1                         Y            Not described   \n",
       "2                         N            Not described   \n",
       "3                         Y            Not described   \n",
       "4                         N            Not described   \n",
       "\n",
       "  DISTRIBUTION OF THE DISEASE ON THE CT SCAN  SEVERITY ON CT SCAN  \\\n",
       "0      Patchy/multi-lovar (>1 lobe, not all)                 Mild   \n",
       "1                              Not described        Not described   \n",
       "2      Patchy/multi-lovar (>1 lobe, not all)                 Mild   \n",
       "3      Patchy/multi-lovar (>1 lobe, not all)               Severe   \n",
       "4                              Not described        Not described   \n",
       "\n",
       "  OTHER FEATURES ON THE SCAN NOTES  \n",
       "0    None of above mentioned   NaN  \n",
       "1    None of above mentioned   NaN  \n",
       "2    None of above mentioned   NaN  \n",
       "3    None of above mentioned   NaN  \n",
       "4                Tree in bud   NaN  \n",
       "\n",
       "[5 rows x 24 columns]"
      ]
     },
     "execution_count": 4,
     "metadata": {},
     "output_type": "execute_result"
    }
   ],
   "source": [
    "data.head()"
   ]
  },
  {
   "cell_type": "code",
   "execution_count": 5,
   "metadata": {},
   "outputs": [
    {
     "name": "stdout",
     "output_type": "stream",
     "text": [
      "<class 'pandas.core.frame.DataFrame'>\n",
      "RangeIndex: 312 entries, 0 to 311\n",
      "Data columns (total 24 columns):\n",
      "UID                                           312 non-null object\n",
      "Gender                                        312 non-null object\n",
      "age                                           312 non-null int64\n",
      "PostCode                                      312 non-null object\n",
      "Dead or Alive                                 312 non-null object\n",
      "Date of Death                                 19 non-null datetime64[ns]\n",
      "NTM                                           239 non-null object\n",
      "NTM sp                                        236 non-null object\n",
      "PSE                                           286 non-null object\n",
      "Others                                        285 non-null object\n",
      "First org                                     185 non-null object\n",
      "Sputum purulence                              277 non-null object\n",
      "Sputum quantity                               273 non-null object\n",
      "cough                                         277 non-null object\n",
      "haemoptysis                                   265 non-null object\n",
      "Azithromycin                                  248 non-null object\n",
      "PPI                                           248 non-null object\n",
      "MRC score                                     260 non-null float64\n",
      "significant comorbidities                     237 non-null object\n",
      "Morphological Appearance                      220 non-null object\n",
      "DISTRIBUTION OF THE DISEASE ON THE CT SCAN    222 non-null object\n",
      "SEVERITY ON CT SCAN                           214 non-null object\n",
      "OTHER FEATURES ON THE SCAN                    205 non-null object\n",
      "NOTES                                         2 non-null object\n",
      "dtypes: datetime64[ns](1), float64(1), int64(1), object(21)\n",
      "memory usage: 32.9+ KB\n"
     ]
    }
   ],
   "source": [
    "data.info()"
   ]
  },
  {
   "cell_type": "code",
   "execution_count": 9,
   "metadata": {},
   "outputs": [],
   "source": [
    "data = data[['UID','PostCode','NTM','PSE']]"
   ]
  },
  {
   "cell_type": "code",
   "execution_count": 10,
   "metadata": {},
   "outputs": [
    {
     "name": "stdout",
     "output_type": "stream",
     "text": [
      "<class 'pandas.core.frame.DataFrame'>\n",
      "RangeIndex: 312 entries, 0 to 311\n",
      "Data columns (total 4 columns):\n",
      "UID         312 non-null object\n",
      "PostCode    312 non-null object\n",
      "NTM         239 non-null object\n",
      "PSE         286 non-null object\n",
      "dtypes: object(4)\n",
      "memory usage: 4.9+ KB\n"
     ]
    }
   ],
   "source": [
    "data.info()"
   ]
  },
  {
   "cell_type": "code",
   "execution_count": 11,
   "metadata": {},
   "outputs": [
    {
     "data": {
      "text/plain": [
       "N    196\n",
       "Y     43\n",
       "Name: NTM, dtype: int64"
      ]
     },
     "execution_count": 11,
     "metadata": {},
     "output_type": "execute_result"
    }
   ],
   "source": [
    "data['NTM'].value_counts()"
   ]
  },
  {
   "cell_type": "code",
   "execution_count": 12,
   "metadata": {},
   "outputs": [
    {
     "data": {
      "text/plain": [
       "Y    180\n",
       "N    106\n",
       "Name: PSE, dtype: int64"
      ]
     },
     "execution_count": 12,
     "metadata": {},
     "output_type": "execute_result"
    }
   ],
   "source": [
    "data['PSE'].value_counts()"
   ]
  },
  {
   "cell_type": "code",
   "execution_count": 13,
   "metadata": {
    "collapsed": true
   },
   "outputs": [],
   "source": [
    "ntm_dummies = pd.get_dummies(data['NTM'], prefix=\"NTM\")"
   ]
  },
  {
   "cell_type": "code",
   "execution_count": 15,
   "metadata": {},
   "outputs": [],
   "source": [
    "pse_dummies = pd.get_dummies(data['PSE'], prefix=\"PSE\")"
   ]
  },
  {
   "cell_type": "code",
   "execution_count": 16,
   "metadata": {},
   "outputs": [
    {
     "name": "stderr",
     "output_type": "stream",
     "text": [
      "C:\\Users\\nbm0029\\AppData\\Local\\Continuum\\Anaconda3\\lib\\site-packages\\ipykernel_launcher.py:1: SettingWithCopyWarning: \n",
      "A value is trying to be set on a copy of a slice from a DataFrame\n",
      "\n",
      "See the caveats in the documentation: http://pandas.pydata.org/pandas-docs/stable/indexing.html#indexing-view-versus-copy\n",
      "  \"\"\"Entry point for launching an IPython kernel.\n"
     ]
    }
   ],
   "source": [
    "data.drop(['PSE', 'NTM'], inplace=True, axis=1)"
   ]
  },
  {
   "cell_type": "code",
   "execution_count": 27,
   "metadata": {},
   "outputs": [],
   "source": [
    "data = pd.concat([data, pse_dummies, ntm_dummies], axis=1)"
   ]
  },
  {
   "cell_type": "code",
   "execution_count": 29,
   "metadata": {},
   "outputs": [
    {
     "name": "stdout",
     "output_type": "stream",
     "text": [
      "<class 'pandas.core.frame.DataFrame'>\n",
      "RangeIndex: 312 entries, 0 to 311\n",
      "Data columns (total 6 columns):\n",
      "UID         312 non-null object\n",
      "PostCode    312 non-null object\n",
      "PSE_N       312 non-null uint8\n",
      "PSE_Y       312 non-null uint8\n",
      "NTM_N       312 non-null uint8\n",
      "NTM_Y       312 non-null uint8\n",
      "dtypes: object(2), uint8(4)\n",
      "memory usage: 3.7+ KB\n"
     ]
    }
   ],
   "source": [
    "data.info()"
   ]
  },
  {
   "cell_type": "code",
   "execution_count": 32,
   "metadata": {},
   "outputs": [
    {
     "ename": "ModuleNotFoundError",
     "evalue": "No module named 'urllib2'",
     "output_type": "error",
     "traceback": [
      "\u001b[1;31m---------------------------------------------------------------------------\u001b[0m",
      "\u001b[1;31mModuleNotFoundError\u001b[0m                       Traceback (most recent call last)",
      "\u001b[1;32m<ipython-input-32-6fb1e5e60767>\u001b[0m in \u001b[0;36m<module>\u001b[1;34m()\u001b[0m\n\u001b[1;32m----> 1\u001b[1;33m \u001b[1;32mfrom\u001b[0m \u001b[0murllib2\u001b[0m \u001b[1;32mimport\u001b[0m \u001b[0murlopen\u001b[0m\u001b[1;33m\u001b[0m\u001b[0m\n\u001b[0m\u001b[0;32m      2\u001b[0m \u001b[1;32mimport\u001b[0m \u001b[0mjson\u001b[0m\u001b[1;33m\u001b[0m\u001b[0m\n\u001b[0;32m      3\u001b[0m \u001b[1;32mdef\u001b[0m \u001b[0mgetplace\u001b[0m\u001b[1;33m(\u001b[0m\u001b[0mlat\u001b[0m\u001b[1;33m,\u001b[0m \u001b[0mlon\u001b[0m\u001b[1;33m)\u001b[0m\u001b[1;33m:\u001b[0m\u001b[1;33m\u001b[0m\u001b[0m\n\u001b[0;32m      4\u001b[0m     \u001b[0murl\u001b[0m \u001b[1;33m=\u001b[0m \u001b[1;34m\"http://maps.googleapis.com/maps/api/service/output?parameters\"\u001b[0m\u001b[1;33m\u001b[0m\u001b[0m\n\u001b[0;32m      5\u001b[0m     \u001b[0murl\u001b[0m \u001b[1;33m+=\u001b[0m \u001b[1;34m\"latlng=%s,%s&sensor=false\"\u001b[0m \u001b[1;33m%\u001b[0m \u001b[1;33m(\u001b[0m\u001b[0mlat\u001b[0m\u001b[1;33m,\u001b[0m \u001b[0mlon\u001b[0m\u001b[1;33m)\u001b[0m\u001b[1;33m\u001b[0m\u001b[0m\n",
      "\u001b[1;31mModuleNotFoundError\u001b[0m: No module named 'urllib2'"
     ]
    }
   ],
   "source": [
    "from urllib2 import urlopen\n",
    "import json\n",
    "def getplace(lat, lon):\n",
    "    url = \"http://maps.googleapis.com/maps/api/service/output?parameters\"\n",
    "    url += \"latlng=%s,%s&sensor=false\" % (lat, lon)\n",
    "    v = urlopen(url).read()\n",
    "    j = json.loads(v)\n",
    "    components = j['results'][0]['address_components']\n",
    "    country = town = None\n",
    "    for c in components:\n",
    "        if \"country\" in c['types']:\n",
    "            country = c['long_name']\n",
    "        if \"postal_town\" in c['types']:\n",
    "            town = c['long_name']\n",
    "    return town, country\n",
    "\n",
    "\n",
    "print(getplace(51.1, 0.1))\n",
    "print(getplace(51.2, 0.1))\n",
    "print(getplace(51.3, 0.1))"
   ]
  },
  {
   "cell_type": "code",
   "execution_count": null,
   "metadata": {
    "collapsed": true
   },
   "outputs": [],
   "source": []
  }
 ],
 "metadata": {
  "kernelspec": {
   "display_name": "Python 3",
   "language": "python",
   "name": "python3"
  },
  "language_info": {
   "codemirror_mode": {
    "name": "ipython",
    "version": 3
   },
   "file_extension": ".py",
   "mimetype": "text/x-python",
   "name": "python",
   "nbconvert_exporter": "python",
   "pygments_lexer": "ipython3",
   "version": "3.6.1"
  }
 },
 "nbformat": 4,
 "nbformat_minor": 2
}
